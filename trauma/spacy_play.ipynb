{
 "cells": [
  {
   "cell_type": "code",
   "execution_count": 38,
   "metadata": {},
   "outputs": [],
   "source": [
    "def get_match(file_object, payload, label, pattern):\n",
    "    case = payload.case\n",
    "    hits = payload.hits\n",
    "    length = 0\n",
    "    for line in file_object:\n",
    "        line = re.sub('\\|',' ', line)\n",
    "        length += len(line) # cummulative length of lines processed\n",
    "        doc = nlp(line) # tokenize line\n",
    "\n",
    "        matcher.add(label, None, pattern)\n",
    "        matches = matcher(doc) \n",
    "\n",
    "        # match object returns a tuple with (id, startpos, endpos)\n",
    "        for match_id, start, end in matches:\n",
    "            span = doc[start: end]\n",
    "            start, end = get_position(line, length, span.start_char, span.end_char) # get doc span\n",
    "            #if {label: span.text, \"span\": (span.start_char, span.end_char)} not in hit: # line span\n",
    "            if {label: span.text, \"span\": (start, end), \"case\": case} not in hits: \n",
    "                \n",
    "                hits.append({label: span.text, \"span\": (start, end), \"case\": case})\n",
    "                #print({label: span.text, \"linespan\": (span.start_char, span.end_char), \"docspan\": (start, end)})\n",
    "            return hits"
   ]
  },
  {
   "cell_type": "code",
   "execution_count": 39,
   "metadata": {},
   "outputs": [],
   "source": [
    "def get_position(line, length, start_char, end_char):\n",
    "    '''\n",
    "    get postion of hit in document\n",
    "    '''\n",
    "    #pos = [(token.text,token.idx,token.idx+len(token)) for token in doc]\n",
    "    #for p in pos:\n",
    "    #    print({\"text\":p[0],\"start\":p[1],\"end\":p[2]})\n",
    "    \n",
    "    l = len(line)\n",
    "    if (int(l) > 0 and int(start_char) and int(end_char)):\n",
    "        start = length - l + start_char\n",
    "        end = length - l + end_char\n",
    "        \n",
    "        return start, end\n",
    "    else:\n",
    "        return None"
   ]
  },
  {
   "cell_type": "code",
   "execution_count": 41,
   "metadata": {},
   "outputs": [
    {
     "name": "stdout",
     "output_type": "stream",
     "text": [
      "[{'Age': '52 Years', 'span': (234, 242), 'case': 'AC71231'}, {'Sex': 'Male', 'span': (251, 255), 'case': 'AC71231'}]\n"
     ]
    }
   ],
   "source": [
    "def get_matches(payload):\n",
    "    labels = list() # track current label\n",
    "    #print(payload.patterns.items())\n",
    "    \n",
    "    for label, pattern in payload.patterns.items():\n",
    "        #print(label)\n",
    "        labels.append(label)\n",
    "        file = io.open(payload.filename, 'r')\n",
    "        if len(labels) > 1:\n",
    "            #print('b', labels[len(labels)-2:len(labels)-1])\n",
    "            matcher.remove(labels[len(labels)-2:len(labels)-1][0])\n",
    "        matcher.add(label, None, pattern)\n",
    "        #print(get_match(file, payload, label, pattern))\n",
    "        h = get_match(file, payload, label, pattern)\n",
    "    return h\n",
    "\n",
    "if __name__ == '__main__':\n",
    "    \n",
    "    import spacy, io, re, os\n",
    "    from spacy.matcher import Matcher \n",
    "    from spacy.attrs import *\n",
    "    \n",
    "    class FilePattern(object):\n",
    "        def __init__(self,\n",
    "                     filepath,\n",
    "                     pattern):\n",
    "\n",
    "            self = self\n",
    "            self.filename = filename\n",
    "            self.patterns = patterns\n",
    "            self.case = os.path.basename(filename).split('-')[0]\n",
    "            self.hits = list()\n",
    "\n",
    "        @property\n",
    "        def filePattern(self):\n",
    "            return self\n",
    "   \n",
    "    # TODO: read files from directory using list or glob.glob\n",
    "    filename = '/Users/gregsilverman/development/nlpie_dev/nlp/nlpie/projects/trauma/txt_files/pass_one/AC71231-v1.txt'\n",
    "    \n",
    "    # TODO: read patterns from file\n",
    "    patterns = {\n",
    "                \"Age\": [{\"IS_DIGIT\": True },{\"LOWER\": \"years\"}],\n",
    "                \"Sex\": [{\"LOWER\":\"male\"}]\n",
    "              }\n",
    "    \n",
    "\n",
    "    # instantiate \n",
    "    fp = FilePattern(filename,\n",
    "                    patterns)\n",
    "    \n",
    "    #print(fp.filename,fp.patterns)\n",
    "    \n",
    "    nlp = spacy.load('en') \n",
    "    matcher = Matcher(nlp.vocab) \n",
    "    #hit = list()\n",
    "\n",
    "    print(get_matches(fp))"
   ]
  },
  {
   "cell_type": "code",
   "execution_count": 1,
   "metadata": {},
   "outputs": [
    {
     "name": "stdout",
     "output_type": "stream",
     "text": [
      "The matched text: '44 mpH' 14 20\n",
      "None\n",
      "None\n"
     ]
    }
   ],
   "source": [
    "import re\n",
    "import spacy\n",
    "nlp = spacy.load('en', disable=['parser', 'tagger', 'ner'])\n",
    "doc = nlp(\"Car was going 44 mpHs.\")\n",
    "\n",
    "NUM_PATTERN = re.compile(r\"(?i)\\d+\\s?mph\")\n",
    "\n",
    "for match in re.finditer(NUM_PATTERN, doc.text):\n",
    "    start, end = match.span()\n",
    "    print(f\"The matched text: '{doc.text[start:end]}'\", start, end)\n",
    "    print(doc.char_span(start,end))\n",
    "    span = doc.char_span(start, end)\n",
    "    print(span)"
   ]
  },
  {
   "cell_type": "code",
   "execution_count": null,
   "metadata": {},
   "outputs": [],
   "source": []
  }
 ],
 "metadata": {
  "kernelspec": {
   "display_name": "Python 3",
   "language": "python",
   "name": "python3"
  },
  "language_info": {
   "codemirror_mode": {
    "name": "ipython",
    "version": 3
   },
   "file_extension": ".py",
   "mimetype": "text/x-python",
   "name": "python",
   "nbconvert_exporter": "python",
   "pygments_lexer": "ipython3",
   "version": "3.6.5"
  }
 },
 "nbformat": 4,
 "nbformat_minor": 2
}
